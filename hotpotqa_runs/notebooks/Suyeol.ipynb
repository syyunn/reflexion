{
 "cells": [
  {
   "attachments": {},
   "cell_type": "markdown",
   "metadata": {},
   "source": [
    "#### Notebook for running React experiments"
   ]
  },
  {
   "cell_type": "code",
   "execution_count": 103,
   "metadata": {},
   "outputs": [],
   "source": [
    "import sys, os\n",
    "sys.path.append('..')\n",
    "root  = '../root/'"
   ]
  },
  {
   "cell_type": "code",
   "execution_count": 104,
   "metadata": {},
   "outputs": [],
   "source": [
    "import os\n",
    "import dotenv\n",
    "dotenv.load_dotenv(dotenv_path=os.path.join(root, '.env'))\n",
    "\n",
    "# how to use dotenv\n",
    "key = os.getenv('OPENAI_API_KEY')"
   ]
  },
  {
   "cell_type": "code",
   "execution_count": 105,
   "metadata": {},
   "outputs": [],
   "source": [
    "import joblib\n",
    "from util import summarize_react_trial, log_react_trial, save_agents\n",
    "from agents import ReactReflectAgent, ReactAgent, ReflexionStrategy"
   ]
  },
  {
   "attachments": {},
   "cell_type": "markdown",
   "metadata": {},
   "source": [
    "#### Load the HotpotQA Sample"
   ]
  },
  {
   "cell_type": "code",
   "execution_count": 106,
   "metadata": {},
   "outputs": [],
   "source": [
    "hotpot = joblib.load('../data/hotpot-qa-distractor-sample.joblib').reset_index(drop = True)"
   ]
  },
  {
   "cell_type": "code",
   "execution_count": 107,
   "metadata": {},
   "outputs": [
    {
     "name": "stdout",
     "output_type": "stream",
     "text": [
      "VIVA Media AG changed it's name in 2004. What does their new acronym stand for?\n"
     ]
    }
   ],
   "source": [
    "# select first row of hotpot\n",
    "question = hotpot.iloc[0].question\n",
    "print(question)\n"
   ]
  },
  {
   "cell_type": "code",
   "execution_count": 108,
   "metadata": {},
   "outputs": [
    {
     "name": "stdout",
     "output_type": "stream",
     "text": [
      "Gesellschaft mit beschränkter Haftung\n"
     ]
    }
   ],
   "source": [
    "answer = hotpot.iloc[0].answer\n",
    "print(answer)"
   ]
  },
  {
   "cell_type": "code",
   "execution_count": 111,
   "metadata": {},
   "outputs": [],
   "source": [
    "def basic():\n",
    "    return None"
   ]
  },
  {
   "cell_type": "code",
   "execution_count": 112,
   "metadata": {},
   "outputs": [
    {
     "name": "stderr",
     "output_type": "stream",
     "text": [
      "/Users/syyun/anaconda3/envs/reflexion/lib/python3.9/site-packages/langchain/llms/openai.py:169: UserWarning: You are trying to use a chat model. This way of initializing it is no longer supported. Instead, please use: `from langchain.chat_models import ChatOpenAI`\n",
      "  warnings.warn(\n",
      "/Users/syyun/anaconda3/envs/reflexion/lib/python3.9/site-packages/langchain/llms/openai.py:687: UserWarning: You are trying to use a chat model. This way of initializing it is no longer supported. Instead, please use: `from langchain.chat_models import ChatOpenAI`\n",
      "  warnings.warn(\n"
     ]
    }
   ],
   "source": [
    "from langchain.agents import AgentType, Tool, initialize_agent\n",
    "from langchain.tools import DuckDuckGoSearchRun\n",
    "from langchain.llms import OpenAI\n",
    "\n",
    "llm = OpenAI(temperature=0, model_name='gpt-4-1106-preview')\n",
    "search = DuckDuckGoSearchRun()\n",
    "from langchain import OpenAI, Wikipedia\n",
    "wiki = Wikipedia()\n",
    "\n",
    "\n",
    "tools = [\n",
    "    Tool(\n",
    "        name=\"Search Wikipedia\",\n",
    "        func=wiki.search,\n",
    "        description=\"Searches the exact entity on Wikipedia and returns the first paragraph if it exists. If not, it will return some similar entities to search.\",\n",
    "    ),\n",
    "    Tool(\n",
    "        name=\"Search Web\",\n",
    "        func=search.run,\n",
    "        description=\"Search web\",\n",
    "    ),\n",
    "    Tool(\n",
    "        name=\"Basic\",\n",
    "        func=basic,\n",
    "        description=\"Useless tool; does nothing.\",\n",
    "    ),\n",
    "]\n",
    "\n",
    "agent = initialize_agent(\n",
    "    tools,\n",
    "    llm,\n",
    "    agent=AgentType.ZERO_SHOT_REACT_DESCRIPTION,\n",
    "    verbose=True,\n",
    ")"
   ]
  },
  {
   "cell_type": "code",
   "execution_count": 113,
   "metadata": {},
   "outputs": [],
   "source": [
    "REACT_INSTRUCTION = f\"\"\"\n",
    "Question: {question}\n",
    "\"\"\""
   ]
  },
  {
   "cell_type": "code",
   "execution_count": 114,
   "metadata": {},
   "outputs": [
    {
     "name": "stdout",
     "output_type": "stream",
     "text": [
      "\n",
      "Question: VIVA Media AG changed it's name in 2004. What does their new acronym stand for?\n",
      "\n"
     ]
    }
   ],
   "source": [
    "print(REACT_INSTRUCTION)"
   ]
  },
  {
   "cell_type": "code",
   "execution_count": 115,
   "metadata": {},
   "outputs": [
    {
     "name": "stdout",
     "output_type": "stream",
     "text": [
      "\n",
      "\n",
      "\u001b[1m> Entering new AgentExecutor chain...\u001b[0m\n",
      "\u001b[32;1m\u001b[1;3mI need to find out what the new name for VIVA Media AG is and what the acronym stands for after they changed it in 2004.\n",
      "\n",
      "Action: Search Wikipedia\n",
      "Action Input: VIVA Media AG\u001b[0m\n",
      "Observation: \u001b[36;1m\u001b[1;3mCould not find [VIVA Media AG]. Similar: ['MTV Music (Polish TV channel)', 'Paramount International Networks', 'VIVA Plus', 'VIVA (German TV channel)', 'Viacom (1952–2005)', 'Vauxhall Viva', 'Sartorius AG', 'GfK Entertainment charts', 'Puma (brand)', 'Spellbound Entertainment']\u001b[0m\n",
      "Thought:\u001b[32;1m\u001b[1;3mThe exact entity \"VIVA Media AG\" does not have a Wikipedia page, but there are similar entities that might be related. Since VIVA Media AG seems to be a media company, it might be related to the VIVA German TV channel or the broader media company Viacom.\n",
      "\n",
      "Action: Search Wikipedia\n",
      "Action Input: VIVA (German TV channel)\u001b[0m\n",
      "Observation: \u001b[36;1m\u001b[1;3mpage_content='VIVA (abbreviation for: Videoverwertungsanstalt translating to \"Video Exploitation Facility\") was a German free-to-air music television channel, first broadcast on December 1, 1993. The channel was intended to compete against MTV Europe and was the first German-language music TV channel, while MTV was only broadcast in English until the introduction of MTV Germany in 1997. It was also supposed to focus more on German music and pop culture while MTV only broadcast anglophone music by artists mostly from North America, the United Kingdom, Ireland and Australia.\\nAfter years of competition for audience share, MTV Networks Europe eventually acquired VIVA on  January 14, 2005, after it had outrun its own efforts for better ratings. MTV operated VIVA channels in Austria, Germany, Hungary, Ireland, Poland, Switzerland and the United Kingdom.\\nIn June 2018, Viacom announced that it would shut down all Viva operations worldwide at the end of 2018.\\nThe channel ceased to broadcast at 14:00 on 31 December 2018, being replaced by Comedy Central.\\n\\n\\n== History ==\\n\\n\\n=== Initial concept ===\\nThe concept behind VIVA originated in 1992, when major record labels were frustrated by MTV Europe\\'s decision to program mostly English-language music videos to the Germanophone markets, in what was perceived as its refusal to play major German-speaking artists. Executives at US media giant Time Warner, keen on increasing their market share of its music repertoire and business in Germany, planned the new TV station in 1992. Eventually, they recruited DoRo Productions, producers of music videos for notable acts such as Queen, The Rolling Stones, David Bowie, in the design of the music channel. Time Warner executives Tom McGrath and Peter Bogner assembled a group of record labels that included its very own Warner Music, EMI Music, Polygram Records and Sony Television along with Frank Otto, Apax Partners, and Austrian producers Rudi Dolezal and Hannes Rossacher of DoRo Productions. In a concept paper of Time Warner, Peter Bogner analyzed MTV\\'s market position as vulnerable, and \"while MTV is betting on a diet of pure Anglo-American video clips, VIVA should broadcast at least 40% more German music.\"VIVA started broadcasting on December 1, 1993 as Germany\\'s second music channel, after the first channel, musicbox became Tele 5 in 1988 and its lineup, which was initially dominated by music, was gradually reduced. VIVA advanced to fill this gap. The broadcasting studio was located in the rented rooms of Bertelsmann\\'s VOX studios in Cologne-Ossendorf. Originally, VIVA was started by the media giant Time Warner to boost the German business of its company Warner Music Group. The Bertelsmann Music Group (BMG) declined an invitation to take part in VIVA because they feared possible reprisals from their competitor MTV Europe and were not convinced that a German-language music channel could prevail against MTV. Undeterred by this, Time Warner executives Tom McGrath and Peter Bogner, along with their competitors Sony, PolyGram and EMI Music, and media executive Michael Oplesch (VIVA GF, MTV GF, MME GF), founded producer Rudi Dolezal and Hannes Rossacher, the founders of the TV production company Me, Myself & Eye (MME), Christoph Post, Jörg A. Hoppe and Marcus O. Rosenmüller, and the media lawyer Helge Sasse the Viva Medien GmbH. The first VJs included the moderators Stefan Raab and Heike Makatsch, who were still unknown at the time. After their time at VIVA, they rose to become successful film and television personalities in Germany.\\nFrom its beginning, the channel broadcast from Cologne. The studios were in Cologne-Mülheim for most years, in the same building as Brainpool. The first (and subsequently last in 2018) music video played was \"Zu geil für diese Welt\" (Too Awesome for This World). The channel\\'s profile was largely defined by Rudi Dolezal and Hannes Rossacher (DoRo production). In 1994, market leadership was achieved for the first time (according to their own statements). After MTV re-entered free TV, VIVA temporarily lost the upper hand. From the middle of 2004, however, VIVA was again slightly in the lead in terms of viewership in the advertising-relevant target group.\\nVIVA became an immediate success with the audience, while ultimately providing German artists with a music channel that could help expose their music to the German audience.\\n\\n\\n=== Competing with MTV ===\\nWith Dieter Gorny eventually as its second managing director on board, VIVA applied for cable carriage licenses in the various German states. DoRo Productions designed the original programming format which while clearly a music video channel, sought to differentiate itself from MTV not just by having a German-speaking voice, but by speaking directly to the differences in pop culture between Germany and the anglophone MTV.Before launching the channel, the labels offered to fund MTV in a German-speaking version but were rejected by MTV management at the time, as it espoused a \"one world, one language\" programming philosophy (at least for Europe since the Latin American channels used Spanish and Portuguese).\\nOn 21 March 1995, a second channel, Viva Zwei (\"VIVA Two\"), was created, initially a channel for classic music videos which later focused on lesser known and more independently produced music, mostly indie and alternative rock, metal, electronic music and alternative hip hop.\\nHowever, Viva Zwei was not financially successful, so on 7 January 2002, it was replaced by VIVA Plus, a channel dedicated purely to pop and mainstream music for a younger target audience. Some Viva Zwei formats managed to continue on Viva Plus for some time though, and Fast Forward even got included in the main channel\\'s program. VIVA Plus itself was discontinued on 14 January 2007 and got replaced by Comedy Central Deutschland the next day.\\n\\n\\n=== Comet Awards ===\\nSince 1995, VIVA held an annual pop music award ceremony known as the Comet. During the 2003 award ceremonies, VIVA openly expressed an anti-Iraq War view. The awards were last held in 2011. The 2012 awards ceremony was cancelled as Viacom wanted to focus more on the MTV Europe Music Awards instead. In 2013, it got cancelled again. Although the awards were never officially canceled altogether, they weren\\'t held ever since.\\n\\n\\n=== MTV\\'s response to VIVA ===\\nAfter MTV introduced a German-language version of itself in 1997, the competition between the two stations increased. VIVA was widely perceived as the more mainstream-oriented channel for younger viewers, while MTV Germany was directed at youths and young adults with some edgier programming. In 2003, VIVA got bad press after it was discovered that it had given Universal Music an unfair advantage in the placement of their music videos.\\n\\n\\n=== MTV owner acquires VIVA ===\\nOn June 24, 2004, VIVA was acquired (for the sum of €310 million) by Viacom International, which also owns MTV, thus ending the rivalry between VIVA and MTV and making them start to cooperate instead. After the acquisition of VIVA by Viacom, MTV Germany shifted to mostly broadcasting reality and comedy shows. VIVA became the music channel with chart shows and other similar programs which were mostly directed at a mainstream audience. Although the new owners had outlined that, with four channels under their helm, there was going to \"offer a greater variety of content for a wider public and a larger range of tastes\" while still promising to continue the \"strong national and cultural identity\" of the channel, Viacom introduced a programming scheme that allowed the station to be run by just 40 people, making many previous employees redundant. The studios and headquarters in Cologne were closed in March 2005 (Viacom became the sole owner of the former VIVA Media properties in January), from then on VIVA broadcast from the same studios as MTV Germany in Berlin.\\nFrom January 2011, under a major shakeup at MTV Networks Germany, VIVA continued to be part of MTV Networks Germany\\'s free-to-air package and the channel became the main music and entertainment brand within Germany while complemented by its sister channels MTV Germany and MTV Brand New, which then became pay TV, although in late 2017 MTV Germany was put back into free TV. VIVA Germany received a new look and on-air branding on 1 January 2011. The new look of VIVA joined the four triangles of the new logo into one triangle, putting the angle of VIVA into one heart.\\nStarting 22 March 2011, VIVA broadcast only in 16:9. Programs produced in 4:3 were cropped to 14:9 and black bars were added left and right. VIVA HD Germany, a simulcast in 1080i high-definition, launched on 16 May 2011. It was available via IPTV from Deutsche Telekom.\\nOn January 1, 2012, VIVA shut down its analog signal from Astra 19,2º East.\\n\\n\\n=== Discontinuation ===\\nIn June 2018, Viacom announced its decision to discontinue VIVA at the end of 2018. Viacom general manager Mark Specht said in an interview that the channel is profitable, but that Viacom wants to focus on its three core brands MTV, Comedy Central and Nickelodeon as it sees bigger growth opportunities there. The slot will be filled by Comedy Central, which had already shared its slot with VIVA since 2014 and after the end of VIVA will become a 24-hour channel. Comedy Central so far has been only broadcast in the evening and night hours, while VIVA was broadcast at daytime.On 31 December 2018 at 14:00 CET, the channel aired its final music video, \"Viva Forever\", by the Spice Girls, which had also been aired when sister channel in the UK and Ireland ceased broadcast earlier in the year. Shortly after, the channel aired a farewell bumper shows, featuring several music artists, former hosts and other celebrities (including DJ BoBo, Loona, Alex Christensen, Udo Lindenberg and Oliver Pocher) saying their goodbyes. After the bumper shows ended, the channel aired the music video of \"Zu geil für diese Welt\" by Die Fantastischen Vier (which was also the first music video that was aired back in 1993) and then faded into a black screen featuring the old 2002-2004 VIVA logo with the words \"Rest In Peace\" and \"1993-2018\" below. Shortly after, the channel faded to dark, it was followed by the startup of Comedy Central, ending 25 years of broadcast. The broadcast was \"extended\", as in the first seconds of Comedy Central broadcast, the station failed to switch off the VIVA logo.\\n\\n\\n== Programming ==\\n\\n\\n=== Presenters ===\\n\\n\\n==== Presenters from MTV ====\\n\\n\\n=== Logos ===\\n\\n\\t\\t\\t\\n\\t\\t\\t\\n\\t\\t\\n\\t\\t\\n\\t\\t\\t\\n\\t\\t\\t\\n\\t\\t\\n\\t\\t\\n\\t\\t\\t\\n\\t\\t\\t\\n\\t\\t\\n\\t\\t\\n\\t\\t\\t\\n\\t\\t\\t\\n\\t\\t\\nNote that from 1 December 2018 to 31 December 2018 all logo designs of Viva were shown by changing every two minutes, as a tribute to Viva due to its shut down.\\n\\n\\n== VIVA in other countries ==\\nViacom also operated VIVA channels in Austria (VIVA Austria), Hungary (VIVA Hungary), Poland (VIVA Polska), The United Kingdom and Ireland (Viva UK and Ireland) and Switzerland (VIVA Switzerland).\\n\\n\\n== See also ==\\nTMF, a similar defunct channel to VIVA that was available in the Netherlands and Flemish speaking parts of Belgium before being replaced by localized versions of MTV. Both VIVA and TMF are operated by Viacom International Media Networks Europe.\\nViva Zwei\\n\\n\\n== References ==\\n\\n\\n== External links ==\\nVIVA Website for Germany, Austria and Switzerland\\n(in German) website of Viacom International Media Networks Germany\\n(in German) report in Die Welt about the planned massive reduction of staff in VIVA' metadata={'page': 'https://en.wikipedia.org/wiki/VIVA_(German_TV_channel)'}\u001b[0m\n",
      "Thought:\u001b[32;1m\u001b[1;3mThe information provided does not include any details about VIVA Media AG changing its name or what the new acronym stands for. It seems that the search for VIVA Media AG led to the VIVA German TV channel, which is related but does not provide the specific information needed. I may need to search the web for more direct information regarding the name change of VIVA Media AG in 2004.\n",
      "\n",
      "Action: Search Web\n",
      "Action Input: VIVA Media AG name change 2004\u001b[0m"
     ]
    },
    {
     "name": "stderr",
     "output_type": "stream",
     "text": [
      "/Users/syyun/anaconda3/envs/reflexion/lib/python3.9/site-packages/duckduckgo_search/compat.py:13: UserWarning: ddg is deprecated. Use DDGS().text() generator\n",
      "  warnings.warn(\"ddg is deprecated. Use DDGS().text() generator\")\n"
     ]
    },
    {
     "name": "stdout",
     "output_type": "stream",
     "text": [
      "\n",
      "Observation: \u001b[33;1m\u001b[1;3mYammer has had a near 10-year life as a Microsoft brand, following Yammer's announced purchase by Microsoft for about $1.2 billion back in 2012. Viva Engage, on the other hand, is a relatively new ... In March, Microsoft will also rebrand the existing Communities app for Outlook on the desktop and the web to Viva Engage. The name change will be automatic, and the new Viva Engage app in Outlook ... February 21, 2023 Digital Workplace. By David Barry. Last week, Microsoft 365 general manager Seth Patton announced that the company would be folding Yammer into Viva Engage and permanently retiring the Yammer brand. Anyone who has followed the evolution of Yammer since its 2012 acquisition for $1.2 billion — an astounding sum at the time ... Additionally, Yammer SharePoint webpart, Yammer Embed, Outlook notifications and Yammer mobile app have all been rebranded to Viva Engage. When existing Yammer Desktop PWA users open the app, they'll get a prompt asking them to reinstall the app. Users will have to click \"OK\" and the app will reinstall and renamed to \"Viva Engage ... This includes a range of templates, logos, and other resources to help communicate the change. The link to download the Viva-Engage-and-Yammer-rebrand-kit.zip can be found here .\u001b[0m\n",
      "Thought:\u001b[32;1m\u001b[1;3mThe web search results seem to be discussing a different topic related to Microsoft's Viva Engage rather than the name change of VIVA Media AG in 2004. The information found is not relevant to the original question. I may need to refine my web search to find more specific information about VIVA Media AG's name change and what the new acronym stands for.\n",
      "\n",
      "Action: Search Web\n",
      "Action Input: What does the new acronym for VIVA Media AG stand for after 2004 name change\u001b[0m\n",
      "Observation: \u001b[33;1m\u001b[1;3mIn March, Microsoft will also rebrand the existing Communities app for Outlook on the desktop and the web to Viva Engage. The name change will be automatic, and the new Viva Engage app in Outlook ... As per your description, based on my research a lot, I found \"Rebranding to Viva Engage\" due to Microsoft Yammer across all its surfaces: web, mobile, and integrations (Embed, SharePoint and Outlook) will be rebranded to Viva Engage by late 2023 (roll out in June), and you can expect Yammer to become Viva Engage through the update of brand eleme... But surely the most impactful change to the platform since New Yammer is today's announcement by Microsoft that it will be transitioning the brand name for the platform from Yammer to Viva Engage ... - Content Formula On February 13th Microsoft announced that Yammer was rebranding to Viva Engage, and would now be part of the Microsoft Viva employee experience platform.. This follows last year's announcement and launch oo the Viva Engage app that was effectively a rebranding of the Yammer Communities app for Microsoft Teams. The Microsoft 365 app launcher, also known as waffle, will also be rebranded and the Yammer logo and descriptions will be updated to Viva Engage. When existing Yammer Desktop PWA users open the ...\u001b[0m\n",
      "Thought:"
     ]
    }
   ],
   "source": [
    "agent.run(\n",
    "    REACT_INSTRUCTION\n",
    ")"
   ]
  },
  {
   "cell_type": "code",
   "execution_count": null,
   "metadata": {},
   "outputs": [],
   "source": []
  }
 ],
 "metadata": {
  "kernelspec": {
   "display_name": "env",
   "language": "python",
   "name": "python3"
  },
  "language_info": {
   "codemirror_mode": {
    "name": "ipython",
    "version": 3
   },
   "file_extension": ".py",
   "mimetype": "text/x-python",
   "name": "python",
   "nbconvert_exporter": "python",
   "pygments_lexer": "ipython3",
   "version": "3.9.18"
  },
  "orig_nbformat": 4,
  "vscode": {
   "interpreter": {
    "hash": "e23f799cbd2581634725fbf6ce3480ae26192d78438dfafc8efe944acd6490d5"
   }
  }
 },
 "nbformat": 4,
 "nbformat_minor": 2
}
